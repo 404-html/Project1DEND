{
 "cells": [
  {
   "cell_type": "markdown",
   "metadata": {},
   "source": [
    "# ETL Processes\n",
    "Use this notebook to develop the ETL process for each of your tables before completing the `etl.py` file to load the whole datasets."
   ]
  },
  {
   "cell_type": "code",
   "execution_count": 14,
   "metadata": {},
   "outputs": [],
   "source": [
    "import os\n",
    "import glob\n",
    "import psycopg2\n",
    "import pandas as pd\n",
    "from sql_queries import *\n",
    "import datetime"
   ]
  },
  {
   "cell_type": "code",
   "execution_count": 2,
   "metadata": {},
   "outputs": [],
   "source": [
    "%run create_tables.py"
   ]
  },
  {
   "cell_type": "code",
   "execution_count": 3,
   "metadata": {},
   "outputs": [],
   "source": [
    "conn = psycopg2.connect(\"host=127.0.0.1 dbname=sparkifydb user=student password=student\")\n",
    "cur = conn.cursor()"
   ]
  },
  {
   "cell_type": "code",
   "execution_count": 4,
   "metadata": {},
   "outputs": [],
   "source": [
    "def get_files(filepath):\n",
    "    all_files = []\n",
    "    for root, dirs, files in os.walk(filepath):\n",
    "        files = glob.glob(os.path.join(root,'*.json'))\n",
    "        for f in files :\n",
    "            all_files.append(os.path.abspath(f))\n",
    "    \n",
    "    return all_files"
   ]
  },
  {
   "cell_type": "markdown",
   "metadata": {},
   "source": [
    "# Process `song_data`\n",
    "In this first part, you'll perform ETL on the first dataset, `song_data`, to create the `songs` and `artists` dimensional tables.\n",
    "\n",
    "Let's perform ETL on a single song file and load a single record into each table to start.\n",
    "- Use the `get_files` function provided above to get a list of all song JSON files in `data/song_data`\n",
    "- Select the first song in this list\n",
    "- Read the song file and view the data"
   ]
  },
  {
   "cell_type": "code",
   "execution_count": 5,
   "metadata": {},
   "outputs": [
    {
     "data": {
      "text/plain": [
       "'/Users/juliansanjuan/Documents/Udacity/Project_1'"
      ]
     },
     "execution_count": 5,
     "metadata": {},
     "output_type": "execute_result"
    }
   ],
   "source": [
    "pwd"
   ]
  },
  {
   "cell_type": "code",
   "execution_count": 6,
   "metadata": {},
   "outputs": [],
   "source": [
    "song_files = get_files('/Users/juliansanjuan/Documents/Udacity/Project_1/data/song_data')"
   ]
  },
  {
   "cell_type": "code",
   "execution_count": 7,
   "metadata": {},
   "outputs": [],
   "source": [
    "colnames =['num_songs','artist_id','artist_latitude','artist_longitude','artist_location','artist_name','song_id','title','duration','year']\n",
    "songDict = {\n",
    "    'num_songs':[],\n",
    "    'artist_id':[],\n",
    "    'artist_latitude':[],\n",
    "    'artist_longitude':[],\n",
    "    'artist_location':[],\n",
    "    'artist_name':[],\n",
    "    'song_id':[],\n",
    "    'title':[],\n",
    "    'title':[],\n",
    "    'duration':[],\n",
    "    'year':[]\n",
    "}\n",
    "for i in range(len(song_files)):\n",
    "    sData = pd.read_json(song_files[i],typ='Frame',orient='None')\n",
    "    for i in range(len(colnames)):\n",
    "        songDict[colnames[i]].append(sData[i])"
   ]
  },
  {
   "cell_type": "code",
   "execution_count": 8,
   "metadata": {},
   "outputs": [
    {
     "data": {
      "text/html": [
       "<div>\n",
       "<style scoped>\n",
       "    .dataframe tbody tr th:only-of-type {\n",
       "        vertical-align: middle;\n",
       "    }\n",
       "\n",
       "    .dataframe tbody tr th {\n",
       "        vertical-align: top;\n",
       "    }\n",
       "\n",
       "    .dataframe thead th {\n",
       "        text-align: right;\n",
       "    }\n",
       "</style>\n",
       "<table border=\"1\" class=\"dataframe\">\n",
       "  <thead>\n",
       "    <tr style=\"text-align: right;\">\n",
       "      <th></th>\n",
       "      <th>num_songs</th>\n",
       "      <th>artist_id</th>\n",
       "      <th>artist_latitude</th>\n",
       "      <th>artist_longitude</th>\n",
       "      <th>artist_location</th>\n",
       "      <th>artist_name</th>\n",
       "      <th>song_id</th>\n",
       "      <th>title</th>\n",
       "      <th>duration</th>\n",
       "      <th>year</th>\n",
       "    </tr>\n",
       "  </thead>\n",
       "  <tbody>\n",
       "    <tr>\n",
       "      <th>0</th>\n",
       "      <td>1</td>\n",
       "      <td>AR7G5I41187FB4CE6C</td>\n",
       "      <td>NaN</td>\n",
       "      <td>NaN</td>\n",
       "      <td>London, England</td>\n",
       "      <td>Adam Ant</td>\n",
       "      <td>SONHOTT12A8C13493C</td>\n",
       "      <td>Something Girls</td>\n",
       "      <td>233.40363</td>\n",
       "      <td>1982</td>\n",
       "    </tr>\n",
       "    <tr>\n",
       "      <th>1</th>\n",
       "      <td>1</td>\n",
       "      <td>AR8ZCNI1187B9A069B</td>\n",
       "      <td>NaN</td>\n",
       "      <td>NaN</td>\n",
       "      <td></td>\n",
       "      <td>Planet P Project</td>\n",
       "      <td>SOIAZJW12AB01853F1</td>\n",
       "      <td>Pink World</td>\n",
       "      <td>269.81832</td>\n",
       "      <td>1984</td>\n",
       "    </tr>\n",
       "    <tr>\n",
       "      <th>2</th>\n",
       "      <td>1</td>\n",
       "      <td>ARXR32B1187FB57099</td>\n",
       "      <td>NaN</td>\n",
       "      <td>NaN</td>\n",
       "      <td></td>\n",
       "      <td>Gob</td>\n",
       "      <td>SOFSOCN12A8C143F5D</td>\n",
       "      <td>Face the Ashes</td>\n",
       "      <td>209.60608</td>\n",
       "      <td>2007</td>\n",
       "    </tr>\n",
       "    <tr>\n",
       "      <th>3</th>\n",
       "      <td>1</td>\n",
       "      <td>AR10USD1187B99F3F1</td>\n",
       "      <td>NaN</td>\n",
       "      <td>NaN</td>\n",
       "      <td>Burlington, Ontario, Canada</td>\n",
       "      <td>Tweeterfriendly Music</td>\n",
       "      <td>SOHKNRJ12A6701D1F8</td>\n",
       "      <td>Drop of Rain</td>\n",
       "      <td>189.57016</td>\n",
       "      <td>0</td>\n",
       "    </tr>\n",
       "    <tr>\n",
       "      <th>4</th>\n",
       "      <td>1</td>\n",
       "      <td>ARMJAGH1187FB546F3</td>\n",
       "      <td>35.14968</td>\n",
       "      <td>-90.04892</td>\n",
       "      <td>Memphis, TN</td>\n",
       "      <td>The Box Tops</td>\n",
       "      <td>SOCIWDW12A8C13D406</td>\n",
       "      <td>Soul Deep</td>\n",
       "      <td>148.03546</td>\n",
       "      <td>1969</td>\n",
       "    </tr>\n",
       "  </tbody>\n",
       "</table>\n",
       "</div>"
      ],
      "text/plain": [
       "   num_songs           artist_id  artist_latitude  artist_longitude  \\\n",
       "0          1  AR7G5I41187FB4CE6C              NaN               NaN   \n",
       "1          1  AR8ZCNI1187B9A069B              NaN               NaN   \n",
       "2          1  ARXR32B1187FB57099              NaN               NaN   \n",
       "3          1  AR10USD1187B99F3F1              NaN               NaN   \n",
       "4          1  ARMJAGH1187FB546F3         35.14968         -90.04892   \n",
       "\n",
       "               artist_location            artist_name             song_id  \\\n",
       "0              London, England               Adam Ant  SONHOTT12A8C13493C   \n",
       "1                                    Planet P Project  SOIAZJW12AB01853F1   \n",
       "2                                                 Gob  SOFSOCN12A8C143F5D   \n",
       "3  Burlington, Ontario, Canada  Tweeterfriendly Music  SOHKNRJ12A6701D1F8   \n",
       "4                  Memphis, TN           The Box Tops  SOCIWDW12A8C13D406   \n",
       "\n",
       "             title   duration  year  \n",
       "0  Something Girls  233.40363  1982  \n",
       "1       Pink World  269.81832  1984  \n",
       "2   Face the Ashes  209.60608  2007  \n",
       "3     Drop of Rain  189.57016     0  \n",
       "4        Soul Deep  148.03546  1969  "
      ]
     },
     "execution_count": 8,
     "metadata": {},
     "output_type": "execute_result"
    }
   ],
   "source": [
    "song_df = pd.DataFrame(songDict)\n",
    "song_df.head()"
   ]
  },
  {
   "cell_type": "markdown",
   "metadata": {},
   "source": [
    "## #1: `songs` Table\n",
    "#### Extract Data for Songs Table\n",
    "- Select columns for song ID, title, artist ID, year, and duration\n",
    "- Use `df.values` to select just the values from the dataframe\n",
    "- Index to select the first (only) record in the dataframe\n",
    "- Convert the array to a list and set it to `song_data`"
   ]
  },
  {
   "cell_type": "code",
   "execution_count": 20,
   "metadata": {},
   "outputs": [
    {
     "data": {
      "text/plain": [
       "[array(['SONHOTT12A8C13493C', 'Something Girls', 'AR7G5I41187FB4CE6C',\n",
       "        1982, 233.40363], dtype=object),\n",
       " array(['SOIAZJW12AB01853F1', 'Pink World', 'AR8ZCNI1187B9A069B', 1984,\n",
       "        269.81832], dtype=object),\n",
       " array(['SOFSOCN12A8C143F5D', 'Face the Ashes', 'ARXR32B1187FB57099', 2007,\n",
       "        209.60608], dtype=object),\n",
       " array(['SOHKNRJ12A6701D1F8', 'Drop of Rain', 'AR10USD1187B99F3F1', 0,\n",
       "        189.57016], dtype=object),\n",
       " array(['SOCIWDW12A8C13D406', 'Soul Deep', 'ARMJAGH1187FB546F3', 1969,\n",
       "        148.03546], dtype=object),\n",
       " array(['SOMZWCG12A8C13C480', \"I Didn't Mean To\", 'ARD7TVE1187B99BFB1', 0,\n",
       "        218.93179], dtype=object),\n",
       " array(['SOXVLOJ12AB0189215', 'Amor De Cabaret', 'ARKRRTF1187B9984DA', 0,\n",
       "        177.47546], dtype=object),\n",
       " array(['SOUDSGM12AC9618304', 'Insatiable (Instrumental Version)',\n",
       "        'ARNTLGG11E2835DDB9', 0, 266.39628], dtype=object),\n",
       " array(['SOYMRWW12A6D4FAB14',\n",
       "        'The Moon And I (Ordinary Day Album Version)',\n",
       "        'ARKFYS91187B98E58F', 0, 267.7024], dtype=object),\n",
       " array(['SOMJBYD12A6D4F8557', 'Keepin It Real (Skit)',\n",
       "        'ARD0S291187B9B7BF5', 0, 114.78159], dtype=object),\n",
       " array(['SOVYKGO12AB0187199', 'Crazy Mixed Up World', 'ARH4Z031187B9A71F2',\n",
       "        1961, 156.39465], dtype=object),\n",
       " array(['SOGNCJP12A58A80271', 'Do You Finally Need A Friend',\n",
       "        'ARB29H41187B98F0EF', 1972, 342.56934], dtype=object),\n",
       " array(['SOBLGCN12AB0183212', 'James (Hold The Ladder Steady)',\n",
       "        'AR47JEX1187B995D81', 1985, 124.86485], dtype=object),\n",
       " array(['SOZQDIU12A58A7BCF6', 'Superconfidential', 'ARNTLGG11E2835DDB9', 0,\n",
       "        338.31138], dtype=object),\n",
       " array(['SOBBUGU12A8C13E95D', 'Setting Fire to Sleeping Giants',\n",
       "        'ARMAC4T1187FB3FA4C', 2004, 207.77751], dtype=object),\n",
       " array(['SOPSWQW12A6D4F8781', 'Made Like This (Live)',\n",
       "        'ARGIWFO1187B9B55B7', 0, 225.09669], dtype=object),\n",
       " array(['SONYPOM12A8C13B2D7',\n",
       "        'I Think My Wife Is Running Around On Me (Taco Hell)',\n",
       "        'ARDNS031187B9924F0', 2005, 186.48771], dtype=object),\n",
       " array(['SOZCTXZ12AB0182364', 'Setanta matins', 'AR5KOSW1187FB35FF4', 0,\n",
       "        269.58322], dtype=object),\n",
       " array(['SOLLHMX12AB01846DC', 'The Emperor Falls', 'AR1Y2PT1187FB5B9CE', 0,\n",
       "        484.62322], dtype=object),\n",
       " array(['SOBZBAZ12A6D4F8742', 'Spanish Grease', 'AROUOZZ1187B9ABE51', 1997,\n",
       "        168.25424], dtype=object),\n",
       " array(['SOMUYGI12AB0188633', 'La Culpa', 'ARL7K851187B99ACD2', 0,\n",
       "        226.35057], dtype=object),\n",
       " array(['SOZVMJI12AB01808AF', 'Synthetic Dream', 'ARNPAGP1241B9C7FD4', 0,\n",
       "        165.69424], dtype=object),\n",
       " array(['SOWTBJW12AC468AC6E', 'Broken-Down Merry-Go-Round',\n",
       "        'ARQGYP71187FB44566', 0, 151.84934], dtype=object),\n",
       " array(['SOUQQEA12A8C134B1B', 'High Tide', 'ARIG6O41187B988BDD', 0,\n",
       "        228.5971], dtype=object),\n",
       " array(['SORAMLE12AB017C8B0', 'Auguri Cha Cha', 'ARHHO3O1187B989413', 0,\n",
       "        191.84281], dtype=object),\n",
       " array(['SOKEJEJ12A8C13E0D0', 'The Urgency (LP Version)',\n",
       "        'ARC43071187B990240', 0, 245.21098], dtype=object),\n",
       " array(['SOBONFF12A6D4F84D8', 'Tonight Will Be Alright',\n",
       "        'ARIK43K1187B9AE54C', 1986, 307.3824], dtype=object),\n",
       " array(['SOHUOAP12A8AE488E9', 'Floating', 'ARD842G1187B997376', 1987,\n",
       "        491.12771], dtype=object),\n",
       " array(['SOILPQQ12AB017E82A', 'Sohna Nee Sohna Data', 'AR1ZHYZ1187FB3C717',\n",
       "        0, 599.24853], dtype=object),\n",
       " array(['SOXLBJT12A8C140925', 'Caught In A Dream', 'ARYKCQI1187FB3B18F',\n",
       "        2004, 290.29832], dtype=object),\n",
       " array(['SOTTDKS12AB018D69B', 'It Wont Be Christmas', 'ARMBR4Y1187B9990EB',\n",
       "        0, 241.47546], dtype=object),\n",
       " array(['SOZHPGD12A8C1394FE', 'Baby Come To Me', 'AR9AWNF1187B9AB0B4', 0,\n",
       "        236.93016], dtype=object),\n",
       " array(['SOMVWWT12A58A7AE05', 'Knocked Out Of The Park',\n",
       "        'ARQ9BO41187FB5CF1F', 0, 183.17016], dtype=object),\n",
       " array(['SOPVXLX12A8C1402D5', 'Larger Than Life', 'AR3JMC51187B9AE49D',\n",
       "        1999, 236.25098], dtype=object),\n",
       " array(['SOBBXLX12A58A79DDA', 'Erica (2005 Digital Remaster)',\n",
       "        'AREDBBQ1187B98AFF5', 0, 138.63138], dtype=object),\n",
       " array(['SOAOIBZ12AB01815BE',\n",
       "        'I Hold Your Hand In Mine [Live At Royal Albert Hall]',\n",
       "        'ARPBNLO1187FB3D52F', 2000, 43.36281], dtype=object),\n",
       " array(['SOQVMXR12A81C21483', 'Salt In NYC', 'ARKULSX1187FB45F84', 0,\n",
       "        424.12363], dtype=object),\n",
       " array(['SOSLAVG12A8C13397F', 'Den Pai Alo', 'AROGWRA122988FEE45', 0,\n",
       "        243.82649], dtype=object),\n",
       " array(['SODUJBS12A8C132150', 'Wessex Loses a Bride', 'ARI2JSK1187FB496EF',\n",
       "        0, 111.62077], dtype=object),\n",
       " array(['SOQLGFP12A58A7800E', 'OAKtown', 'ARD7TVE1187B99BFB1', 0,\n",
       "        259.44771], dtype=object),\n",
       " array(['SODREIN12A58A7F2E5',\n",
       "        'A Whiter Shade Of Pale (Live @ Fillmore West)',\n",
       "        'ARLTWXK1187FB5A3F8', 0, 326.00771], dtype=object),\n",
       " array(['SOSWKAV12AB018FC91', 'Midnight Star', 'ARULZCI1241B9C8611', 0,\n",
       "        335.51628], dtype=object),\n",
       " array(['SOWQTQZ12A58A7B63E', 'Streets On Fire (Explicit Album Version)',\n",
       "        'ARPFHN61187FB575F6', 0, 279.97995], dtype=object),\n",
       " array(['SOUPIRU12A6D4FA1E1', 'Der Kleine Dompfaff', 'ARJIE2Y1187B994AB7',\n",
       "        0, 152.92036], dtype=object),\n",
       " array(['SONSKXP12A8C13A2C9', 'Native Soul', 'AR0IAWL1187B9A96D0', 2003,\n",
       "        197.19791], dtype=object),\n",
       " array(['SORRZGD12A6310DBC3', 'Harajuku Girls', 'ARVBRGZ1187FB4675A', 2004,\n",
       "        290.55955], dtype=object),\n",
       " array(['SOINLJW12A8C13314C', 'City Slickers', 'AR8IEZO1187B99055E', 2008,\n",
       "        149.86404], dtype=object),\n",
       " array(['SOLYIBD12A8C135045', 'Music is what we love',\n",
       "        'AR051KA1187B98B2FF', 0, 261.51138], dtype=object),\n",
       " array(['SONWXQJ12A8C134D94', 'The Ballad Of Sleeping Beauty',\n",
       "        'ARNF6401187FB57032', 1994, 305.162], dtype=object),\n",
       " array(['SOGDBUF12A8C140FAA', 'Intro', 'AR558FS1187FB45658', 2003,\n",
       "        75.67628], dtype=object),\n",
       " array(['SOBKWDJ12A8C13B2F3', 'Wild Rose (Back 2 Basics Mix)',\n",
       "        'AR36F9J1187FB406F1', 0, 230.71302], dtype=object),\n",
       " array(['SOBCOSW12A8C13D398', 'Rumba De Barcelona', 'AR7SMBG1187B9B9066',\n",
       "        0, 218.38322], dtype=object),\n",
       " array(['SOBAYLL12A8C138AF9', 'Sono andati? Fingevo di dormire',\n",
       "        'ARDR4AC1187FB371A1', 0, 511.16363], dtype=object),\n",
       " array(['SOOJPRH12A8C141995', 'Loaded Like A Gun', 'ARBGXIG122988F409D', 0,\n",
       "        173.19138], dtype=object),\n",
       " array(['SOPEGZN12AB0181B3D', 'Get Your Head Stuck On Your Neck',\n",
       "        'AREDL271187FB40F44', 0, 45.66159], dtype=object),\n",
       " array(['SOLEYHO12AB0188A85', 'Got My Mojo Workin', 'ARAGB2O1187FB3A161',\n",
       "        0, 338.23302], dtype=object),\n",
       " array(['SOGVQGJ12AB017F169', 'Ten Tonne', 'AR62SOJ1187FB47BB5', 2005,\n",
       "        337.68444], dtype=object),\n",
       " array(['SOFFKZS12AB017F194', 'A Higher Place (Album Version)',\n",
       "        'ARBEBBY1187B9B43DB', 1994, 236.17261], dtype=object),\n",
       " array(['SOFNOQK12AB01840FC', 'Kutt Free (DJ Volume Remix)',\n",
       "        'ARNNKDK1187B98BBD5', 0, 407.37914], dtype=object),\n",
       " array(['SOQOTLQ12AB01868D0', 'Clementina Santafè', 'ARGCY1Y1187B9A4FA5',\n",
       "        0, 153.33832], dtype=object)]"
      ]
     },
     "execution_count": 20,
     "metadata": {},
     "output_type": "execute_result"
    }
   ],
   "source": [
    "song_data = song_df[['song_id','title','artist_id','year','duration']].copy()\n",
    "song_data = song_data.values\n",
    "song_data = list(song_data)\n",
    "song_data"
   ]
  },
  {
   "cell_type": "markdown",
   "metadata": {},
   "source": [
    "#### Insert Record into Song Table\n",
    "Implement the `song_table_insert` query in `sql_queries.py` and run the cell below to insert a record for this song into the `songs` table. Remember to run `create_tables.py` before running the cell below to ensure you've created/resetted the `songs` table in the sparkify database."
   ]
  },
  {
   "cell_type": "code",
   "execution_count": 23,
   "metadata": {},
   "outputs": [],
   "source": [
    "for i in range(len(song_data)):\n",
    "    cur.execute(song_table_insert, song_data[i])\n",
    "    conn.commit()"
   ]
  },
  {
   "cell_type": "markdown",
   "metadata": {},
   "source": [
    "Run `test.ipynb` to see if you've successfully added a record to this table."
   ]
  },
  {
   "cell_type": "markdown",
   "metadata": {},
   "source": [
    "## #2: `artists` Table\n",
    "#### Extract Data for Artists Table\n",
    "- Select columns for artist ID, name, location, latitude, and longitude\n",
    "- Use `df.values` to select just the values from the dataframe\n",
    "- Index to select the first (only) record in the dataframe\n",
    "- Convert the array to a list and set it to `artist_data`"
   ]
  },
  {
   "cell_type": "code",
   "execution_count": 25,
   "metadata": {},
   "outputs": [],
   "source": [
    "artist_data = song_df[['artist_id','artist_name','artist_location','artist_latitude','artist_longitude']].copy()\n",
    "artist_data = artist_data.values\n",
    "artist_data = list(artist_data)"
   ]
  },
  {
   "cell_type": "markdown",
   "metadata": {},
   "source": [
    "#### Insert Record into Artist Table\n",
    "Implement the `artist_table_insert` query in `sql_queries.py` and run the cell below to insert a record for this song's artist into the `artists` table. Remember to run `create_tables.py` before running the cell below to ensure you've created/resetted the `artists` table in the sparkify database."
   ]
  },
  {
   "cell_type": "code",
   "execution_count": 28,
   "metadata": {},
   "outputs": [],
   "source": [
    "for i in range(len(artist_data)):    \n",
    "    cur.execute(artist_table_insert, artist_data[i])\n",
    "    conn.commit()"
   ]
  },
  {
   "cell_type": "markdown",
   "metadata": {},
   "source": [
    "Run `test.ipynb` to see if you've successfully added a record to this table."
   ]
  },
  {
   "cell_type": "markdown",
   "metadata": {},
   "source": [
    "# Process `log_data`\n",
    "In this part, you'll perform ETL on the second dataset, `log_data`, to create the `time` and `users` dimensional tables, as well as the `songplays` fact table.\n",
    "\n",
    "Let's perform ETL on a single log file and load a single record into each table.\n",
    "- Use the `get_files` function provided above to get a list of all log JSON files in `data/log_data`\n",
    "- Select the first log file in this list\n",
    "- Read the log file and view the data"
   ]
  },
  {
   "cell_type": "code",
   "execution_count": 29,
   "metadata": {},
   "outputs": [],
   "source": [
    "log_files = get_files('/Users/juliansanjuan/Documents/Udacity/Project_1/data/log_data')"
   ]
  },
  {
   "cell_type": "code",
   "execution_count": 30,
   "metadata": {},
   "outputs": [],
   "source": [
    "for i in range(len(log_files)):\n",
    "    log_df = pd.read_json(log_files[i],lines=True)"
   ]
  },
  {
   "cell_type": "code",
   "execution_count": 31,
   "metadata": {},
   "outputs": [
    {
     "name": "stdout",
     "output_type": "stream",
     "text": [
      "<class 'pandas.core.frame.DataFrame'>\n",
      "RangeIndex: 382 entries, 0 to 381\n",
      "Data columns (total 18 columns):\n",
      "artist           319 non-null object\n",
      "auth             382 non-null object\n",
      "firstName        370 non-null object\n",
      "gender           370 non-null object\n",
      "itemInSession    382 non-null int64\n",
      "lastName         370 non-null object\n",
      "length           319 non-null float64\n",
      "level            382 non-null object\n",
      "location         370 non-null object\n",
      "method           382 non-null object\n",
      "page             382 non-null object\n",
      "registration     370 non-null float64\n",
      "sessionId        382 non-null int64\n",
      "song             319 non-null object\n",
      "status           382 non-null int64\n",
      "ts               382 non-null int64\n",
      "userAgent        370 non-null object\n",
      "userId           382 non-null object\n",
      "dtypes: float64(2), int64(4), object(12)\n",
      "memory usage: 53.8+ KB\n"
     ]
    }
   ],
   "source": [
    "log_df.info()"
   ]
  },
  {
   "cell_type": "code",
   "execution_count": 32,
   "metadata": {},
   "outputs": [
    {
     "data": {
      "text/html": [
       "<div>\n",
       "<style scoped>\n",
       "    .dataframe tbody tr th:only-of-type {\n",
       "        vertical-align: middle;\n",
       "    }\n",
       "\n",
       "    .dataframe tbody tr th {\n",
       "        vertical-align: top;\n",
       "    }\n",
       "\n",
       "    .dataframe thead th {\n",
       "        text-align: right;\n",
       "    }\n",
       "</style>\n",
       "<table border=\"1\" class=\"dataframe\">\n",
       "  <thead>\n",
       "    <tr style=\"text-align: right;\">\n",
       "      <th></th>\n",
       "      <th>artist</th>\n",
       "      <th>auth</th>\n",
       "      <th>firstName</th>\n",
       "      <th>gender</th>\n",
       "      <th>itemInSession</th>\n",
       "      <th>lastName</th>\n",
       "      <th>length</th>\n",
       "      <th>level</th>\n",
       "      <th>location</th>\n",
       "      <th>method</th>\n",
       "      <th>page</th>\n",
       "      <th>registration</th>\n",
       "      <th>sessionId</th>\n",
       "      <th>song</th>\n",
       "      <th>status</th>\n",
       "      <th>ts</th>\n",
       "      <th>userAgent</th>\n",
       "      <th>userId</th>\n",
       "    </tr>\n",
       "  </thead>\n",
       "  <tbody>\n",
       "    <tr>\n",
       "      <th>0</th>\n",
       "      <td>Mudhoney</td>\n",
       "      <td>Logged In</td>\n",
       "      <td>Aleena</td>\n",
       "      <td>F</td>\n",
       "      <td>10</td>\n",
       "      <td>Kirby</td>\n",
       "      <td>231.57506</td>\n",
       "      <td>paid</td>\n",
       "      <td>Waterloo-Cedar Falls, IA</td>\n",
       "      <td>PUT</td>\n",
       "      <td>NextSong</td>\n",
       "      <td>1.541023e+12</td>\n",
       "      <td>637</td>\n",
       "      <td>Get Into Yours</td>\n",
       "      <td>200</td>\n",
       "      <td>1542326457796</td>\n",
       "      <td>Mozilla/5.0 (Macintosh; Intel Mac OS X 10.9; r...</td>\n",
       "      <td>44</td>\n",
       "    </tr>\n",
       "    <tr>\n",
       "      <th>1</th>\n",
       "      <td>Carpenters</td>\n",
       "      <td>Logged In</td>\n",
       "      <td>Aleena</td>\n",
       "      <td>F</td>\n",
       "      <td>11</td>\n",
       "      <td>Kirby</td>\n",
       "      <td>238.39302</td>\n",
       "      <td>paid</td>\n",
       "      <td>Waterloo-Cedar Falls, IA</td>\n",
       "      <td>PUT</td>\n",
       "      <td>NextSong</td>\n",
       "      <td>1.541023e+12</td>\n",
       "      <td>637</td>\n",
       "      <td>Yesterday Once More</td>\n",
       "      <td>200</td>\n",
       "      <td>1542326688796</td>\n",
       "      <td>Mozilla/5.0 (Macintosh; Intel Mac OS X 10.9; r...</td>\n",
       "      <td>44</td>\n",
       "    </tr>\n",
       "    <tr>\n",
       "      <th>2</th>\n",
       "      <td>None</td>\n",
       "      <td>Logged In</td>\n",
       "      <td>Aleena</td>\n",
       "      <td>F</td>\n",
       "      <td>12</td>\n",
       "      <td>Kirby</td>\n",
       "      <td>NaN</td>\n",
       "      <td>paid</td>\n",
       "      <td>Waterloo-Cedar Falls, IA</td>\n",
       "      <td>GET</td>\n",
       "      <td>Home</td>\n",
       "      <td>1.541023e+12</td>\n",
       "      <td>637</td>\n",
       "      <td>None</td>\n",
       "      <td>200</td>\n",
       "      <td>1542326691796</td>\n",
       "      <td>Mozilla/5.0 (Macintosh; Intel Mac OS X 10.9; r...</td>\n",
       "      <td>44</td>\n",
       "    </tr>\n",
       "    <tr>\n",
       "      <th>3</th>\n",
       "      <td>Kings Of Leon</td>\n",
       "      <td>Logged In</td>\n",
       "      <td>Aleena</td>\n",
       "      <td>F</td>\n",
       "      <td>13</td>\n",
       "      <td>Kirby</td>\n",
       "      <td>185.28608</td>\n",
       "      <td>paid</td>\n",
       "      <td>Waterloo-Cedar Falls, IA</td>\n",
       "      <td>PUT</td>\n",
       "      <td>NextSong</td>\n",
       "      <td>1.541023e+12</td>\n",
       "      <td>637</td>\n",
       "      <td>Taper Jean Girl</td>\n",
       "      <td>200</td>\n",
       "      <td>1542326926796</td>\n",
       "      <td>Mozilla/5.0 (Macintosh; Intel Mac OS X 10.9; r...</td>\n",
       "      <td>44</td>\n",
       "    </tr>\n",
       "    <tr>\n",
       "      <th>4</th>\n",
       "      <td>The Bloody Beetroots</td>\n",
       "      <td>Logged In</td>\n",
       "      <td>Aleena</td>\n",
       "      <td>F</td>\n",
       "      <td>14</td>\n",
       "      <td>Kirby</td>\n",
       "      <td>201.97832</td>\n",
       "      <td>paid</td>\n",
       "      <td>Waterloo-Cedar Falls, IA</td>\n",
       "      <td>PUT</td>\n",
       "      <td>NextSong</td>\n",
       "      <td>1.541023e+12</td>\n",
       "      <td>637</td>\n",
       "      <td>Warp 1.9 (feat. Steve Aoki)</td>\n",
       "      <td>200</td>\n",
       "      <td>1542327111796</td>\n",
       "      <td>Mozilla/5.0 (Macintosh; Intel Mac OS X 10.9; r...</td>\n",
       "      <td>44</td>\n",
       "    </tr>\n",
       "  </tbody>\n",
       "</table>\n",
       "</div>"
      ],
      "text/plain": [
       "                 artist       auth firstName gender  itemInSession lastName  \\\n",
       "0              Mudhoney  Logged In    Aleena      F             10    Kirby   \n",
       "1            Carpenters  Logged In    Aleena      F             11    Kirby   \n",
       "2                  None  Logged In    Aleena      F             12    Kirby   \n",
       "3         Kings Of Leon  Logged In    Aleena      F             13    Kirby   \n",
       "4  The Bloody Beetroots  Logged In    Aleena      F             14    Kirby   \n",
       "\n",
       "      length level                  location method      page  registration  \\\n",
       "0  231.57506  paid  Waterloo-Cedar Falls, IA    PUT  NextSong  1.541023e+12   \n",
       "1  238.39302  paid  Waterloo-Cedar Falls, IA    PUT  NextSong  1.541023e+12   \n",
       "2        NaN  paid  Waterloo-Cedar Falls, IA    GET      Home  1.541023e+12   \n",
       "3  185.28608  paid  Waterloo-Cedar Falls, IA    PUT  NextSong  1.541023e+12   \n",
       "4  201.97832  paid  Waterloo-Cedar Falls, IA    PUT  NextSong  1.541023e+12   \n",
       "\n",
       "   sessionId                         song  status             ts  \\\n",
       "0        637               Get Into Yours     200  1542326457796   \n",
       "1        637          Yesterday Once More     200  1542326688796   \n",
       "2        637                         None     200  1542326691796   \n",
       "3        637              Taper Jean Girl     200  1542326926796   \n",
       "4        637  Warp 1.9 (feat. Steve Aoki)     200  1542327111796   \n",
       "\n",
       "                                           userAgent userId  \n",
       "0  Mozilla/5.0 (Macintosh; Intel Mac OS X 10.9; r...     44  \n",
       "1  Mozilla/5.0 (Macintosh; Intel Mac OS X 10.9; r...     44  \n",
       "2  Mozilla/5.0 (Macintosh; Intel Mac OS X 10.9; r...     44  \n",
       "3  Mozilla/5.0 (Macintosh; Intel Mac OS X 10.9; r...     44  \n",
       "4  Mozilla/5.0 (Macintosh; Intel Mac OS X 10.9; r...     44  "
      ]
     },
     "execution_count": 32,
     "metadata": {},
     "output_type": "execute_result"
    }
   ],
   "source": [
    "log_df.head()"
   ]
  },
  {
   "cell_type": "markdown",
   "metadata": {},
   "source": [
    "## #3: `time` Table\n",
    "#### Extract Data for Time Table\n",
    "- Filter records by `NextSong` action\n",
    "- Convert the `ts` timestamp column to datetime\n",
    "  - Hint: the current timestamp is in milliseconds\n",
    "- Extract the timestamp, hour, day, week of year, month, year, and weekday from the `ts` column and set `time_data` to a list containing these values in order\n",
    "  - Hint: use pandas' [`dt` attribute](https://pandas.pydata.org/pandas-docs/stable/reference/api/pandas.Series.dt.html) to access easily datetimelike properties.\n",
    "- Specify labels for these columns and set to `column_labels`\n",
    "- Create a dataframe, `time_df,` containing the time data for this file by combining `column_labels` and `time_data` into a dictionary and converting this into a dataframe"
   ]
  },
  {
   "cell_type": "code",
   "execution_count": 33,
   "metadata": {},
   "outputs": [
    {
     "data": {
      "text/html": [
       "<div>\n",
       "<style scoped>\n",
       "    .dataframe tbody tr th:only-of-type {\n",
       "        vertical-align: middle;\n",
       "    }\n",
       "\n",
       "    .dataframe tbody tr th {\n",
       "        vertical-align: top;\n",
       "    }\n",
       "\n",
       "    .dataframe thead th {\n",
       "        text-align: right;\n",
       "    }\n",
       "</style>\n",
       "<table border=\"1\" class=\"dataframe\">\n",
       "  <thead>\n",
       "    <tr style=\"text-align: right;\">\n",
       "      <th></th>\n",
       "      <th>artist</th>\n",
       "      <th>auth</th>\n",
       "      <th>firstName</th>\n",
       "      <th>gender</th>\n",
       "      <th>itemInSession</th>\n",
       "      <th>lastName</th>\n",
       "      <th>length</th>\n",
       "      <th>level</th>\n",
       "      <th>location</th>\n",
       "      <th>method</th>\n",
       "      <th>page</th>\n",
       "      <th>registration</th>\n",
       "      <th>sessionId</th>\n",
       "      <th>song</th>\n",
       "      <th>status</th>\n",
       "      <th>ts</th>\n",
       "      <th>userAgent</th>\n",
       "      <th>userId</th>\n",
       "    </tr>\n",
       "  </thead>\n",
       "  <tbody>\n",
       "    <tr>\n",
       "      <th>0</th>\n",
       "      <td>Mudhoney</td>\n",
       "      <td>Logged In</td>\n",
       "      <td>Aleena</td>\n",
       "      <td>F</td>\n",
       "      <td>10</td>\n",
       "      <td>Kirby</td>\n",
       "      <td>231.57506</td>\n",
       "      <td>paid</td>\n",
       "      <td>Waterloo-Cedar Falls, IA</td>\n",
       "      <td>PUT</td>\n",
       "      <td>NextSong</td>\n",
       "      <td>1.541023e+12</td>\n",
       "      <td>637</td>\n",
       "      <td>Get Into Yours</td>\n",
       "      <td>200</td>\n",
       "      <td>1542326457796</td>\n",
       "      <td>Mozilla/5.0 (Macintosh; Intel Mac OS X 10.9; r...</td>\n",
       "      <td>44</td>\n",
       "    </tr>\n",
       "    <tr>\n",
       "      <th>1</th>\n",
       "      <td>Carpenters</td>\n",
       "      <td>Logged In</td>\n",
       "      <td>Aleena</td>\n",
       "      <td>F</td>\n",
       "      <td>11</td>\n",
       "      <td>Kirby</td>\n",
       "      <td>238.39302</td>\n",
       "      <td>paid</td>\n",
       "      <td>Waterloo-Cedar Falls, IA</td>\n",
       "      <td>PUT</td>\n",
       "      <td>NextSong</td>\n",
       "      <td>1.541023e+12</td>\n",
       "      <td>637</td>\n",
       "      <td>Yesterday Once More</td>\n",
       "      <td>200</td>\n",
       "      <td>1542326688796</td>\n",
       "      <td>Mozilla/5.0 (Macintosh; Intel Mac OS X 10.9; r...</td>\n",
       "      <td>44</td>\n",
       "    </tr>\n",
       "    <tr>\n",
       "      <th>3</th>\n",
       "      <td>Kings Of Leon</td>\n",
       "      <td>Logged In</td>\n",
       "      <td>Aleena</td>\n",
       "      <td>F</td>\n",
       "      <td>13</td>\n",
       "      <td>Kirby</td>\n",
       "      <td>185.28608</td>\n",
       "      <td>paid</td>\n",
       "      <td>Waterloo-Cedar Falls, IA</td>\n",
       "      <td>PUT</td>\n",
       "      <td>NextSong</td>\n",
       "      <td>1.541023e+12</td>\n",
       "      <td>637</td>\n",
       "      <td>Taper Jean Girl</td>\n",
       "      <td>200</td>\n",
       "      <td>1542326926796</td>\n",
       "      <td>Mozilla/5.0 (Macintosh; Intel Mac OS X 10.9; r...</td>\n",
       "      <td>44</td>\n",
       "    </tr>\n",
       "    <tr>\n",
       "      <th>4</th>\n",
       "      <td>The Bloody Beetroots</td>\n",
       "      <td>Logged In</td>\n",
       "      <td>Aleena</td>\n",
       "      <td>F</td>\n",
       "      <td>14</td>\n",
       "      <td>Kirby</td>\n",
       "      <td>201.97832</td>\n",
       "      <td>paid</td>\n",
       "      <td>Waterloo-Cedar Falls, IA</td>\n",
       "      <td>PUT</td>\n",
       "      <td>NextSong</td>\n",
       "      <td>1.541023e+12</td>\n",
       "      <td>637</td>\n",
       "      <td>Warp 1.9 (feat. Steve Aoki)</td>\n",
       "      <td>200</td>\n",
       "      <td>1542327111796</td>\n",
       "      <td>Mozilla/5.0 (Macintosh; Intel Mac OS X 10.9; r...</td>\n",
       "      <td>44</td>\n",
       "    </tr>\n",
       "    <tr>\n",
       "      <th>5</th>\n",
       "      <td>Kings Of Leon</td>\n",
       "      <td>Logged In</td>\n",
       "      <td>Aleena</td>\n",
       "      <td>F</td>\n",
       "      <td>15</td>\n",
       "      <td>Kirby</td>\n",
       "      <td>201.79546</td>\n",
       "      <td>paid</td>\n",
       "      <td>Waterloo-Cedar Falls, IA</td>\n",
       "      <td>PUT</td>\n",
       "      <td>NextSong</td>\n",
       "      <td>1.541023e+12</td>\n",
       "      <td>637</td>\n",
       "      <td>Revelry</td>\n",
       "      <td>200</td>\n",
       "      <td>1542327312796</td>\n",
       "      <td>Mozilla/5.0 (Macintosh; Intel Mac OS X 10.9; r...</td>\n",
       "      <td>44</td>\n",
       "    </tr>\n",
       "  </tbody>\n",
       "</table>\n",
       "</div>"
      ],
      "text/plain": [
       "                 artist       auth firstName gender  itemInSession lastName  \\\n",
       "0              Mudhoney  Logged In    Aleena      F             10    Kirby   \n",
       "1            Carpenters  Logged In    Aleena      F             11    Kirby   \n",
       "3         Kings Of Leon  Logged In    Aleena      F             13    Kirby   \n",
       "4  The Bloody Beetroots  Logged In    Aleena      F             14    Kirby   \n",
       "5         Kings Of Leon  Logged In    Aleena      F             15    Kirby   \n",
       "\n",
       "      length level                  location method      page  registration  \\\n",
       "0  231.57506  paid  Waterloo-Cedar Falls, IA    PUT  NextSong  1.541023e+12   \n",
       "1  238.39302  paid  Waterloo-Cedar Falls, IA    PUT  NextSong  1.541023e+12   \n",
       "3  185.28608  paid  Waterloo-Cedar Falls, IA    PUT  NextSong  1.541023e+12   \n",
       "4  201.97832  paid  Waterloo-Cedar Falls, IA    PUT  NextSong  1.541023e+12   \n",
       "5  201.79546  paid  Waterloo-Cedar Falls, IA    PUT  NextSong  1.541023e+12   \n",
       "\n",
       "   sessionId                         song  status             ts  \\\n",
       "0        637               Get Into Yours     200  1542326457796   \n",
       "1        637          Yesterday Once More     200  1542326688796   \n",
       "3        637              Taper Jean Girl     200  1542326926796   \n",
       "4        637  Warp 1.9 (feat. Steve Aoki)     200  1542327111796   \n",
       "5        637                      Revelry     200  1542327312796   \n",
       "\n",
       "                                           userAgent userId  \n",
       "0  Mozilla/5.0 (Macintosh; Intel Mac OS X 10.9; r...     44  \n",
       "1  Mozilla/5.0 (Macintosh; Intel Mac OS X 10.9; r...     44  \n",
       "3  Mozilla/5.0 (Macintosh; Intel Mac OS X 10.9; r...     44  \n",
       "4  Mozilla/5.0 (Macintosh; Intel Mac OS X 10.9; r...     44  \n",
       "5  Mozilla/5.0 (Macintosh; Intel Mac OS X 10.9; r...     44  "
      ]
     },
     "execution_count": 33,
     "metadata": {},
     "output_type": "execute_result"
    }
   ],
   "source": [
    "df = log_df[log_df.page == 'NextSong'].copy()\n",
    "df.head()"
   ]
  },
  {
   "cell_type": "code",
   "execution_count": 34,
   "metadata": {},
   "outputs": [
    {
     "data": {
      "text/plain": [
       "0   2018-11-16 00:00:57.796\n",
       "1   2018-11-16 00:04:48.796\n",
       "3   2018-11-16 00:08:46.796\n",
       "4   2018-11-16 00:11:51.796\n",
       "5   2018-11-16 00:15:12.796\n",
       "Name: ts, dtype: datetime64[ns]"
      ]
     },
     "execution_count": 34,
     "metadata": {},
     "output_type": "execute_result"
    }
   ],
   "source": [
    "t = pd.to_datetime(df['ts'], unit='ms')\n",
    "t.head()"
   ]
  },
  {
   "cell_type": "code",
   "execution_count": 35,
   "metadata": {},
   "outputs": [],
   "source": [
    "timestamp = df['ts']\n",
    "weekday = t.dt.weekday\n",
    "year = t.dt.year\n",
    "month = t.dt.month\n",
    "day = t.dt.day \n",
    "hour = t.dt.hour\n",
    "week = t.dt.week\n",
    "time_dict = {\n",
    "            'start_time':timestamp,\n",
    "            'hour':hour,\n",
    "            'day': day,\n",
    "            'week': week,\n",
    "            'month': month,\n",
    "            'year': year,\n",
    "            'weekday': weekday}\n",
    "    \n"
   ]
  },
  {
   "cell_type": "code",
   "execution_count": 43,
   "metadata": {},
   "outputs": [],
   "source": [
    "time_df = pd.DataFrame(time_dict)\n",
    "time_df.drop_duplicates(inplace=True)\n",
    "#time_df = time_df.values\n",
    "#time_df = list(time_df)"
   ]
  },
  {
   "cell_type": "markdown",
   "metadata": {},
   "source": [
    "#### Insert Records into Time Table\n",
    "Implement the `time_table_insert` query in `sql_queries.py` and run the cell below to insert records for the timestamps in this log file into the `time` table. Remember to run `create_tables.py` before running the cell below to ensure you've created/resetted the `time` table in the sparkify database."
   ]
  },
  {
   "cell_type": "code",
   "execution_count": 46,
   "metadata": {},
   "outputs": [],
   "source": [
    "for i, row in time_df.iterrows():\n",
    "#    print(list(row))\n",
    "    cur.execute(time_table_insert, list(row))\n",
    "    conn.commit()"
   ]
  },
  {
   "cell_type": "markdown",
   "metadata": {},
   "source": [
    "Run `test.ipynb` to see if you've successfully added records to this table."
   ]
  },
  {
   "cell_type": "markdown",
   "metadata": {},
   "source": [
    "## #4: `users` Table\n",
    "#### Extract Data for Users Table\n",
    "- Select columns for user ID, first name, last name, gender and level and set to `user_df`"
   ]
  },
  {
   "cell_type": "code",
   "execution_count": 49,
   "metadata": {},
   "outputs": [],
   "source": [
    "user_df = df[['userId','firstName','lastName','gender','level']].copy()\n",
    "user_df.drop_duplicates(inplace=True)"
   ]
  },
  {
   "cell_type": "markdown",
   "metadata": {},
   "source": [
    "#### Insert Records into Users Table\n",
    "Implement the `user_table_insert` query in `sql_queries.py` and run the cell below to insert records for the users in this log file into the `users` table. Remember to run `create_tables.py` before running the cell below to ensure you've created/resetted the `users` table in the sparkify database."
   ]
  },
  {
   "cell_type": "code",
   "execution_count": 50,
   "metadata": {},
   "outputs": [],
   "source": [
    "for i, row in user_df.iterrows():\n",
    "    cur.execute(user_table_insert, row)\n",
    "    conn.commit()"
   ]
  },
  {
   "cell_type": "markdown",
   "metadata": {},
   "source": [
    "Run `test.ipynb` to see if you've successfully added records to this table."
   ]
  },
  {
   "cell_type": "markdown",
   "metadata": {},
   "source": [
    "## #5: `songplays` Table\n",
    "#### Extract Data and Songplays Table\n",
    "This one is a little more complicated since information from the songs table, artists table, and original log file are all needed for the `songplays` table. Since the log file does not specify an ID for either the song or the artist, you'll need to get the song ID and artist ID by querying the songs and artists tables to find matches based on song title, artist name, and song duration time.\n",
    "- Implement the `song_select` query in `sql_queries.py` to find the song ID and artist ID based on the title, artist name, and duration of a song.\n",
    "- Select the timestamp, user ID, level, song ID, artist ID, session ID, location, and user agent and set to `songplay_data`\n",
    "\n",
    "#### Insert Records into Songplays Table\n",
    "- Implement the `songplay_table_insert` query and run the cell below to insert records for the songplay actions in this log file into the `songplays` table. Remember to run `create_tables.py` before running the cell below to ensure you've created/resetted the `songplays` table in the sparkify database."
   ]
  },
  {
   "cell_type": "code",
   "execution_count": null,
   "metadata": {},
   "outputs": [],
   "source": [
    "for index, row in df.iterrows():\n",
    "\n",
    "    # get songid and artistid from song and artist tables\n",
    "    cur.execute(song_select, (row.song, row.artist, row.length))\n",
    "    results = cur.fetchone()\n",
    "    \n",
    "    if results:\n",
    "        songid, artistid = results\n",
    "    else:\n",
    "        songid, artistid = None, None\n",
    "\n",
    "    # insert songplay record\n",
    "    songplay_data = ()\n",
    "    cur.execute(songplay_table_insert, songplay_data)\n",
    "    conn.commit()"
   ]
  },
  {
   "cell_type": "markdown",
   "metadata": {},
   "source": [
    "Run `test.ipynb` to see if you've successfully added records to this table."
   ]
  },
  {
   "cell_type": "markdown",
   "metadata": {},
   "source": [
    "# Close Connection to Sparkify Database"
   ]
  },
  {
   "cell_type": "code",
   "execution_count": null,
   "metadata": {},
   "outputs": [],
   "source": [
    "conn.close()"
   ]
  },
  {
   "cell_type": "markdown",
   "metadata": {},
   "source": [
    "# Implement `etl.py`\n",
    "Use what you've completed in this notebook to implement `etl.py`."
   ]
  },
  {
   "cell_type": "code",
   "execution_count": null,
   "metadata": {},
   "outputs": [],
   "source": []
  }
 ],
 "metadata": {
  "kernelspec": {
   "display_name": "Python 3",
   "language": "python",
   "name": "python3"
  },
  "language_info": {
   "codemirror_mode": {
    "name": "ipython",
    "version": 3
   },
   "file_extension": ".py",
   "mimetype": "text/x-python",
   "name": "python",
   "nbconvert_exporter": "python",
   "pygments_lexer": "ipython3",
   "version": "3.6.5"
  }
 },
 "nbformat": 4,
 "nbformat_minor": 2
}
